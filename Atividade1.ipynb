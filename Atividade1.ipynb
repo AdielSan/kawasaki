{
 "cells": [
  {
   "cell_type": "markdown",
   "metadata": {},
   "source": [
    "Atividade de BioInformática\n",
    "\n",
    "Adiel Dos Santos Nascimento - 201504940002"
   ]
  },
  {
   "cell_type": "markdown",
   "metadata": {},
   "source": [
    "### Questão 1"
   ]
  },
  {
   "cell_type": "markdown",
   "metadata": {},
   "source": [
    "--> Criar um código Python que dada uma sequência de nucleotídeos, informar a quantidade de bases A, T, C, G:\n"
   ]
  },
  {
   "cell_type": "code",
   "execution_count": 79,
   "metadata": {},
   "outputs": [
    {
     "data": {
      "image/png": "[encoded data removed]",
      "text/plain": [
       "<Figure size 432x288 with 1 Axes>"
      ]
     },
     "metadata": {},
     "output_type": "display_data"
    },
    {
     "name": "stdout",
     "output_type": "stream",
     "text": [
      "{'A': 226, 'T': 215, 'C': 331, 'G': 329}\n"
     ]
    }
   ],
   "source": [
    "import matplotlib.pyplot as plt\n",
    "\n",
    "arquivo = open('sequence.csv','r')\n",
    "data = arquivo.read()\n",
    "\n",
    "a = data.count('A')\n",
    "t = data.count('T')\n",
    "c = data.count('C')\n",
    "g = data.count('G')\n",
    "\n",
    "\n",
    "d = {u'A':a, u'T':t, u'C':c, u'G':g}\n",
    "\n",
    "plt.bar(range(len(d)), d.values(),align='center')\n",
    "plt.xticks(range(len(d)), d.keys())\n",
    "plt.ylabel('Quantidade')\n",
    "plt.xlabel('Base')\n",
    "plt.title('Contagem de Bases')\n",
    "plt.show()\n",
    "\n",
    "print(d)"
   ]
  },
  {
   "cell_type": "markdown",
   "metadata": {},
   "source": [
    "### Questão 2"
   ]
  },
  {
   "cell_type": "markdown",
   "metadata": {},
   "source": [
    "--> Criar um código Python que transforma uma sequência DNA em uma sequência equivalente RNA:"
   ]
  },
  {
   "cell_type": "code",
   "execution_count": 35,
   "metadata": {},
   "outputs": [
    {
     "name": "stdout",
     "output_type": "stream",
     "text": [
      "AUGAGUGAAGAGGAGCAAGGCUCCGGCACUACCACGGGCUGCGGGCUGCCUAGUAUAGAGCAAAUGCUGGCCGCCAACCCAGGCAAGACCCCGAUCAGCCUUCUGCAGGAGUAUGGGACCAGAAUAGGGAAGACGCCUGUGUACGACCUUCUCAAAGCCGAGGGCCAAGCCCACCAGCCUAAUUUCACCUUCCGGGUCACCGUUGGCGACACCAGCUGCACUGGUCAGGGCCCCAGCAAGAAGGCAGCCAAGCACAAGGCAGCUGAGGUGGCCCUCAAACACCUCAAAGGGGGGAGCAUGCUGGAGCCGGCCCUGGAGGACAGCAGUUCUUUUUCUCCCCUAGACUCUUCACUGCCUGAGGACAUUCCGGUUUUUACUGCUGCAGCAGCUGCUACCCCAGUUCCAUCUGUAGUCCUAACCAGGAGCCCCCCCAUGGAACUGCAGCCCCCUGUCUCCCCUCAGCAGUCUGAGUGCAACCCCGUUGGUGCUCUGCAGGAGCUGGUGGUGCAGAAAGGCUGGCGGUUGCCGGAGUACACAGUGACCCAGGAGUCUGGGCCAGCCCACCGCAAAGAAUUCACCAUGACCUGUCGAGUGGAGCGUUUCAUUGAGAUUGGGAGUGGCACUUCCAAAAAAUUGGCAAAGCGGAAUGCGGCGGCCAAAAUGCUGCUUCGAGUGCACACGGUGCCUCUGGAUGCCCGGGAUGGCAAUGAGGUGGAGCCUGAUGAUGACCACUUCUCCAUUGGUGUGGGCUCCCGCCUGGAUGGUCUUCGAAACCGGGGCCCAGGUUGCACCUGGGAUUCUCUACGAAAUUCAGUAGGAGAGAAGAUCCUGUCCCUCCGCAGUUGCUCCCUGGGCUCCCUGGGUGCCCUGGGCCCUGCCUGCUGCCGUGUCCUCAGUGAGCUCUCUGAGGAGCAGGCCUUUCACGUCAGCUACCUGGAUAUUGAGGAGCUGAGCCUGAGUGGACUCUGCCAGUGCCUGGUGGAACUGUCCACCCAGCCGGCCACUGUGUGUCAUGGCUCUGCAACCACCAGGGAGGCAGCCCGUGGUGAGGCUGCCCGCCGUGCCCUGCAGUACCUCAAGAUCAUGGCAGGCAGCAAGUUG\n"
     ]
    }
   ],
   "source": [
    "arquivo = open('sequence.csv','r')\n",
    "data = arquivo.read()\n",
    "\n",
    "rna = data.replace('T', 'U')\n",
    "print(rna)"
   ]
  }
 ],
 "metadata": {
  "kernelspec": {
   "display_name": "Python 3",
   "language": "python",
   "name": "python3"
  },
  "language_info": {
   "codemirror_mode": {
    "name": "ipython",
    "version": 3
   },
   "file_extension": ".py",
   "mimetype": "text/x-python",
   "name": "python",
   "nbconvert_exporter": "python",
   "pygments_lexer": "ipython3",
   "version": "3.6.5"
  }
 },
 "nbformat": 4,
 "nbformat_minor": 2
}
